{
 "cells": [
  {
   "cell_type": "markdown",
   "metadata": {},
   "source": [
    "### <u> _**CRANK-NICOLSON METHOD FOR THE 1D HEAT EQUATION:**_"
   ]
  },
  {
   "cell_type": "markdown",
   "metadata": {},
   "source": [
    "The Crank-Nicolson method is an implicit finite-difference method to solve partial differential equations such as the heat equation and the likes.\n",
    "The idea is to compute the field at a given time by averaging the the explicit and the implicit method decomposition of the second derivative in space."
   ]
  },
  {
   "cell_type": "markdown",
   "metadata": {},
   "source": [
    "Applied to the 1D heat equation discretized over space and time, denoted by the index $l$ and $j$ we have the following: \n",
    "\n",
    "$$\n",
    "\\frac{u^{l+1}_{j} - u^{l}_{j}}{\\Delta t} = \\frac{D}{2} \\frac{ (u^{l}_{j+1}-2u^{l}_{j} + u^{l}_{j+1}) + (u^{l+1}_{j+1}-2u^{l+1}_{j} + u^{+1}_{j+1})}{(\\Delta x)^2}\n",
    "$$\n",
    "\n",
    "Defining the coefficient $\\lambda = \\frac{D\\Delta t}{(\\Delta x)^2}$, we have : \n",
    "\n",
    "$$\n",
    "u^{l+1}_{j} =  u^{l}_{j} + \\frac{\\lambda}{2}  [ (u^{l}_{j+1}-2u^{l}_{j} + u^{l}_{j+1}) + (u^{l+1}_{j+1}-2u^{l+1}_{j} + u^{+1}_{j+1}) ]\n",
    "$$\n",
    "\n",
    "The advantage of this scheme is its perpetual stability, in contrast to the explicit method which is stable only in the case of $\\lambda < \\frac{1}{2}$."
   ]
  },
  {
   "cell_type": "markdown",
   "metadata": {},
   "source": [
    "Re-arranging the term by separating the the knowns($l$) and the unknowns($l+1$) we have: \n",
    " \n",
    "$$\n",
    "\n",
    "-\\lambda u^{l+1}_{j+1} + 2(1+\\lambda) u^{l+1}_{j} - \\lambda u^{l+1}_{j-1} = \\lambda u^{l}_{j+1}  + 2(1-\\lambda) u^{l}_{j} + \\lambda u^{l}_{j-1}\n",
    "$$\n",
    "\n",
    "Which is a tridiagonal system. Let us consider an example with $j= 1,2,3,4$ we have: \n",
    "\n",
    "$$\n",
    "\n",
    "\\begin{bmatrix}         \n",
    "2(1+\\lambda) & -\\lambda & 0 & -\\lambda\\\\\n",
    " -\\lambda    & 2(1+\\lambda) & -\\lambda & 0\\\\  \n",
    "0 & -\\lambda & 2(1+\\lambda) & -\\lambda\\\\\n",
    " -\\lambda & 0 & -\\lambda & 2(1+\\lambda)\\\\    \n",
    "\\end{bmatrix}\n",
    "\n",
    "\\begin{bmatrix}\n",
    "u^{l+1}_{1}\\\\\n",
    "u^{l+1}_{2}\\\\\n",
    "u^{l+1}_{3}\\\\\n",
    "u^{l+1}_{4}\\\\\n",
    "\\end{bmatrix}\n",
    "\n",
    " = \n",
    "\\begin{bmatrix}         \n",
    "2(1-\\lambda) & \\lambda & 0 & \\lambda\\\\\n",
    " \\lambda    & 2(1-\\lambda) & \\lambda & 0\\\\  \n",
    "0 & \\lambda & 2(1+\\lambda) & \\lambda\\\\\n",
    " \\lambda & 0 & \\lambda & 2(1-\\lambda)\\\\    \n",
    "\\end{bmatrix}\n",
    "\n",
    "\\begin{bmatrix}\n",
    "0\\\\\n",
    "u^{l}_{2} \\\\\n",
    "u^{l}_{3}\\\\\n",
    "0\\\\\n",
    "\\end{bmatrix}\n",
    "\n",
    "\n",
    "\n",
    "$$"
   ]
  },
  {
   "cell_type": "markdown",
   "metadata": {},
   "source": [
    "To implement this scheme, we just need to compute the matrix beforehand and simply update the right-hand side of the equation at every time step before solving the system of equations."
   ]
  },
  {
   "cell_type": "code",
   "execution_count": 1,
   "metadata": {},
   "outputs": [],
   "source": [
    "import numpy as np\n",
    "import matplotlib.pyplot as plt \n",
    "import scipy\n",
    "from matplotlib import animation\n",
    "plt.style.use(['ggplot'])"
   ]
  },
  {
   "cell_type": "code",
   "execution_count": 3,
   "metadata": {},
   "outputs": [
    {
     "name": "stderr",
     "output_type": "stream",
     "text": [
      "MovieWriter ffmpeg unavailable; using Pillow instead.\n"
     ]
    }
   ],
   "source": [
    "nx = 501\n",
    "nt = 501\n",
    "\n",
    "J = np.linspace(0,1,nx)\n",
    "L = np.linspace(0,10,nt)\n",
    "\n",
    "dx = 1/(nx-1)\n",
    "dt = 1/(nt-1)\n",
    "\n",
    "D = 1 \n",
    "lbd = (D*dt)/(dx**2) \n",
    "\n",
    "u = np.zeros((nt,nx))\n",
    "BCs = [0,0]\n",
    "u0 = np.sin(np.pi *J[1:-1]) #np.exp(-100*(J[1:-1]-0.5)**2)\n",
    "\n",
    "u[:,0] = BCs[0]\n",
    "u[:,-1] = BCs[1]\n",
    "\n",
    "u[0,1:-1] = u0\n",
    "\n",
    "\n",
    "A = np.diag( [2*(1+lbd)]*(nx-2),k = 0) + np.diag( [-lbd]*(nx-3),k = 1) + np.diag( [-lbd]*(nx-3),k = -1)\n",
    "B = np.diag( [2*(1-lbd)]*(nx-2),k = 0) + np.diag( [lbd]*(nx-3),k = 1) + np.diag( [lbd]*(nx-3),k = -1)\n",
    "\n",
    "\n",
    "for l in range(nt-1):\n",
    "    b = u[l,1:-1]\n",
    "    b = B.dot(b) \n",
    "    sol = np.linalg.solve(A,b)\n",
    "    u[l+1,1:-1] = sol\n",
    "\n",
    "\n",
    "\n",
    "fig,ax = plt.subplots()\n",
    "\n",
    "ax.grid(True)\n",
    "ax.set_xlabel('x [-]')\n",
    "ax.set_ylabel('Amplitude [-]')\n",
    "\n",
    "def ani(i):\n",
    "    ax.clear()\n",
    "    fig.suptitle(rf'$t ={i*dt:.1f}$')\n",
    "    ax.set_ylim(0,1)\n",
    "    ax.plot(J,u[i,:],label = r'$u(x,t)$')\n",
    "    plt.legend()\n",
    "\n",
    "\n",
    "%matplotlib qt \n",
    "\n",
    "heat_animation = animation.FuncAnimation(fig, ani, frames=nt,interval=40, repeat=True)\n",
    "\n",
    "\n",
    "heat_animation.save('heat_animation.gif')"
   ]
  }
 ],
 "metadata": {
  "kernelspec": {
   "display_name": "Python 3 (ipykernel)",
   "language": "python",
   "name": "python3"
  },
  "language_info": {
   "codemirror_mode": {
    "name": "ipython",
    "version": 3
   },
   "file_extension": ".py",
   "mimetype": "text/x-python",
   "name": "python",
   "nbconvert_exporter": "python",
   "pygments_lexer": "ipython3",
   "version": "3.10.9"
  }
 },
 "nbformat": 4,
 "nbformat_minor": 2
}
